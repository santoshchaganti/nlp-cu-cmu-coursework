{
 "cells": [
  {
   "cell_type": "code",
   "execution_count": 3,
   "metadata": {},
   "outputs": [
    {
     "name": "stdout",
     "output_type": "stream",
     "text": [
      "First run: [10  7  2  8  3  1  6  4] [5 9]\n",
      "Second run: [ 7  8  1  5 10  4  9  3] [6 2]\n",
      "\n",
      "First run with seed: [ 6  1  8  3 10  5  4  7] [9 2]\n",
      "Second run with seed: [ 6  1  8  3 10  5  4  7] [9 2]\n"
     ]
    }
   ],
   "source": [
    "from sklearn.model_selection import train_test_split\n",
    "import numpy as np\n",
    "\n",
    "# Without setting seed\n",
    "X = np.array([1, 2, 3, 4, 5, 6, 7, 8, 9, 10])\n",
    "\n",
    "# First run\n",
    "train1, test1 = train_test_split(X, test_size=0.2)\n",
    "print(\"First run:\", train1, test1)\n",
    "\n",
    "# Second run\n",
    "train2, test2 = train_test_split(X, test_size=0.2)\n",
    "print(\"Second run:\", train2, test2)\n",
    "# These will likely be different splits!\n",
    "\n",
    "# Now with seed\n",
    "# First run with seed\n",
    "np.random.seed(42)  # 42 is arbitrary, you can use any number\n",
    "train1, test1 = train_test_split(X, test_size=0.2, random_state=42)\n",
    "print(\"\\nFirst run with seed:\", train1, test1)\n",
    "\n",
    "# Second run with same seed\n",
    "np.random.seed(42)\n",
    "train2, test2 = train_test_split(X, test_size=0.2, random_state=42)\n",
    "print(\"Second run with seed:\", train2, test2)"
   ]
  }
 ],
 "metadata": {
  "kernelspec": {
   "display_name": "Python 3",
   "language": "python",
   "name": "python3"
  },
  "language_info": {
   "codemirror_mode": {
    "name": "ipython",
    "version": 3
   },
   "file_extension": ".py",
   "mimetype": "text/x-python",
   "name": "python",
   "nbconvert_exporter": "python",
   "pygments_lexer": "ipython3",
   "version": "3.12.0"
  }
 },
 "nbformat": 4,
 "nbformat_minor": 2
}
